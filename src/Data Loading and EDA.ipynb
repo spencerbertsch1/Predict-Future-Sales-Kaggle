{
 "cells": [
  {
   "cell_type": "markdown",
   "metadata": {},
   "source": [
    "# Data Loading and EDA\n",
    "\n",
    "This is the first of several notebooks which will be used as python scripts to complete the Coursera course: How to Win A Data Science Competition. \n",
    "\n",
    "In this notebook I will simply be loading the data, modifying it slightly, and performing some simple exploratory analysis to determine best practices for the types of features to add and the types of encoding methods to use. "
   ]
  },
  {
   "cell_type": "markdown",
   "metadata": {},
   "source": [
    "## Imports"
   ]
  },
  {
   "cell_type": "code",
   "execution_count": 5,
   "metadata": {},
   "outputs": [],
   "source": [
    "# Native imports\n",
    "import time\n",
    "import sys\n",
    "import gc\n",
    "import pickle\n",
    "\n",
    "# scientific computing imports\n",
    "import numpy as np\n",
    "import pandas as pd\n",
    "\n",
    "# Data processing imports\n",
    "from itertools import product\n",
    "from sklearn.preprocessing import LabelEncoder\n",
    "\n",
    "# Plotting imports\n",
    "%matplotlib inline\n",
    "import seaborn as sns\n",
    "import matplotlib.pyplot as plt\n",
    "\n",
    "# model imports\n",
    "from xgboost import XGBRegressor\n",
    "from xgboost import plot_importance\n",
    "\n",
    "# Native imports\n",
    "import time\n",
    "import sys\n",
    "import gc\n",
    "import pickle"
   ]
  },
  {
   "cell_type": "markdown",
   "metadata": {},
   "source": [
    "## Load the data\n",
    "\n",
    "Here we will simply load all of the datasets which are provided to us for the competition"
   ]
  },
  {
   "cell_type": "code",
   "execution_count": 3,
   "metadata": {},
   "outputs": [],
   "source": [
    "path = '/Users/spencerbertsch/Desktop/Courses/Coursera/Predict-Future-Sales-Kaggle/src/data/'\n",
    "train = pd.read_csv(str(path + 'sales_train.csv'))\n",
    "test = pd.read_csv(str(path + 'test.csv')).set_index('ID')\n",
    "submission = pd.read_csv(str(path + 'sample_submission.csv'))\n",
    "items = pd.read_csv(str(path + 'items.csv'))\n",
    "cats = pd.read_csv(str(path + 'item_categories.csv'))\n",
    "shops = pd.read_csv(str(path + 'shops.csv'))"
   ]
  },
  {
   "cell_type": "markdown",
   "metadata": {},
   "source": [
    "One idea that I got from [Denis Larinov](https://www.kaggle.com/dlarionov]) was to remove the outliers from the data as a first step. If there are any outliers which truly dont make sense for the dataset provided we can remove those samples or clip their values within a reasonable range. "
   ]
  },
  {
   "cell_type": "code",
   "execution_count": 51,
   "metadata": {},
   "outputs": [],
   "source": [
    "def plot_outliers(vec_to_plot1, vec_to_plot2, *args):\n",
    "    # Two subplots, the axes array is 1-d\n",
    "    f, axarr = plt.subplots(2, sharex=False)\n",
    "    axarr[0].boxplot(vec_to_plot1)\n",
    "    axarr[1].boxplot(vec_to_plot2)\n",
    "    axarr[0].set_title('Outliers via Simple Boxplot', fontsize=16)\n",
    "    \n",
    "    \n",
    "def remove_outliers():\n",
    "    print('...healing outliers...')"
   ]
  },
  {
   "cell_type": "markdown",
   "metadata": {},
   "source": [
    "## Plot outliers using a boxplot"
   ]
  },
  {
   "cell_type": "code",
   "execution_count": 52,
   "metadata": {},
   "outputs": [
    {
     "data": {
      "image/png": "[encoded data removed]",
      "text/plain": [
       "<Figure size 432x288 with 2 Axes>"
      ]
     },
     "metadata": {},
     "output_type": "display_data"
    }
   ],
   "source": [
    "plot_outliers(vec_to_plot1=train.item_cnt_day, vec_to_plot2=train.item_price)"
   ]
  },
  {
   "cell_type": "markdown",
   "metadata": {},
   "source": [
    "We can now remove these outliers directly"
   ]
  },
  {
   "cell_type": "code",
   "execution_count": 55,
   "metadata": {},
   "outputs": [],
   "source": [
    "train = train[train.item_price<200000]\n",
    "train = train[train.item_cnt_day<1000]"
   ]
  },
  {
   "cell_type": "code",
   "execution_count": 56,
   "metadata": {},
   "outputs": [
    {
     "data": {
      "image/png": "[encoded data removed]",
      "text/plain": [
       "<Figure size 432x288 with 2 Axes>"
      ]
     },
     "metadata": {},
     "output_type": "display_data"
    }
   ],
   "source": [
    "plot_outliers(vec_to_plot1=train.item_cnt_day, vec_to_plot2=train.item_price)"
   ]
  },
  {
   "cell_type": "markdown",
   "metadata": {},
   "source": [
    "We can still see that there are many outliers according to matplotlib's base parameters which define an outlier, but few which are truly not a part of the distrobution. "
   ]
  },
  {
   "cell_type": "code",
   "execution_count": null,
   "metadata": {},
   "outputs": [],
   "source": []
  },
  {
   "cell_type": "code",
   "execution_count": null,
   "metadata": {},
   "outputs": [],
   "source": []
  },
  {
   "cell_type": "code",
   "execution_count": null,
   "metadata": {},
   "outputs": [],
   "source": []
  },
  {
   "cell_type": "code",
   "execution_count": null,
   "metadata": {},
   "outputs": [],
   "source": []
  },
  {
   "cell_type": "code",
   "execution_count": null,
   "metadata": {},
   "outputs": [],
   "source": [
    "def plot_features(booster, figsize):    \n",
    "    fig, ax = plt.subplots(1,1,figsize=figsize)\n",
    "    return plot_importance(booster=booster, ax=ax)\n"
   ]
  },
  {
   "cell_type": "code",
   "execution_count": null,
   "metadata": {},
   "outputs": [],
   "source": []
  },
  {
   "cell_type": "code",
   "execution_count": null,
   "metadata": {},
   "outputs": [],
   "source": []
  },
  {
   "cell_type": "markdown",
   "metadata": {},
   "source": [
    "### Resources: \n",
    "\n",
    "For this notebook I mainly relied on the lectures and the homework exercises from the course. I also consulted the kernels and notebooks from top performers on the competition. Any specific thoughts which were borrowed (both directly and indirectly via code) were cited when used. "
   ]
  },
  {
   "cell_type": "code",
   "execution_count": null,
   "metadata": {},
   "outputs": [],
   "source": []
  }
 ],
 "metadata": {
  "kernelspec": {
   "display_name": "Python 3",
   "language": "python",
   "name": "python3"
  },
  "language_info": {
   "codemirror_mode": {
    "name": "ipython",
    "version": 3
   },
   "file_extension": ".py",
   "mimetype": "text/x-python",
   "name": "python",
   "nbconvert_exporter": "python",
   "pygments_lexer": "ipython3",
   "version": "3.6.5"
  }
 },
 "nbformat": 4,
 "nbformat_minor": 2
}
